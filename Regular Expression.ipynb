{
 "cells": [
  {
   "cell_type": "markdown",
   "metadata": {},
   "source": [
    "## What is Regular Expression ?\n",
    "A Regular Expression (RegEx) is a sequence of characters that defines a search pattern."
   ]
  },
  {
   "cell_type": "markdown",
   "metadata": {},
   "source": [
    "## How to Right Regular Expression ?\n",
    "For writting Regular Exxpressions we need to learn some rules. Here we are listing some examples that will illustrate for writting regular expressions."
   ]
  },
  {
   "cell_type": "code",
   "execution_count": 3,
   "metadata": {},
   "outputs": [],
   "source": [
    "import re"
   ]
  },
  {
   "cell_type": "code",
   "execution_count": 56,
   "metadata": {
    "scrolled": true
   },
   "outputs": [
    {
     "name": "stdout",
     "output_type": "stream",
     "text": [
      "Input Text is \"apple\" ['apple']\n",
      "Input Text is \"admire\" []\n",
      "Input Text is \"APPLE\" []\n"
     ]
    }
   ],
   "source": [
    "#The pattern is: any five letter string starting with a and ending with s.\n",
    "\n",
    "string = 'apple'\n",
    "pattern = '^a...e$'\n",
    "\n",
    "res = re.findall(pattern, string)\n",
    "print('Input Text is \"{}\"'.format(string),res)\n",
    "\n",
    "string2 = 'admire'\n",
    "res2 = re.findall(pattern, string2)\n",
    "print('Input Text is \"{}\"'.format(string2),res2)\n",
    "\n",
    "string3 = 'APPLE'\n",
    "res3 = re.findall(pattern, string3)\n",
    "print('Input Text is \"{}\"'.format(string3),res3)"
   ]
  },
  {
   "cell_type": "markdown",
   "metadata": {},
   "source": [
    "#### Remark: Pattrns are Case sensitive"
   ]
  },
  {
   "cell_type": "code",
   "execution_count": 62,
   "metadata": {
    "scrolled": true
   },
   "outputs": [
    {
     "name": "stdout",
     "output_type": "stream",
     "text": [
      "Input Text is \"apple123\" and Output:  ['a', 'p', 'p', 'l', 'e']\n",
      "Input Text is \"apple123\" and Output:  ['1', '2', '3']\n"
     ]
    }
   ],
   "source": [
    "string = 'apple123'\n",
    "pattern = '[^0-9]'  # Filter All character Values from String\n",
    "\n",
    "res = re.findall(pattern, string)\n",
    "print('Input Text is \"{}\" and Output: '.format(string),res)\n",
    "\n",
    "pattern2 = '[0-9]'  # Filter All Numerical Values from String\n",
    "res2 = re.findall(pattern2, string)\n",
    "print('Input Text is \"{}\" and Output: '.format(string),res2)"
   ]
  },
  {
   "cell_type": "code",
   "execution_count": 64,
   "metadata": {},
   "outputs": [
    {
     "name": "stdout",
     "output_type": "stream",
     "text": [
      "Input Text is \"apple\" and Output:  ['app']\n",
      "Input Text is \"allen\" and Output:  []\n"
     ]
    }
   ],
   "source": [
    "pattern = 'ap+p'  # Filter character sequence\n",
    "string = 'apple'\n",
    "\n",
    "res = re.findall(pattern, string)\n",
    "print('Input Text is \"{}\" and Output: '.format(string),res)\n",
    "\n",
    "string2 = 'allen'\n",
    "res2 = re.findall(pattern, string2)\n",
    "print('Input Text is \"{}\" and Output: '.format(string2),res2)"
   ]
  },
  {
   "cell_type": "code",
   "execution_count": 58,
   "metadata": {},
   "outputs": [
    {
     "name": "stdout",
     "output_type": "stream",
     "text": [
      "Feb\n"
     ]
    }
   ],
   "source": [
    "string =  '25 Feb 1996'\n",
    "\n",
    "# Find month from String:\n",
    "m_pattern = '[A-z]'\n",
    "month = re.findall(m_pattern, string)\n",
    "print(''.join(month))"
   ]
  },
  {
   "cell_type": "code",
   "execution_count": 70,
   "metadata": {},
   "outputs": [
    {
     "name": "stdout",
     "output_type": "stream",
     "text": [
      "1996\n"
     ]
    }
   ],
   "source": [
    "# Find year from String:\n",
    "print(string[-4:])"
   ]
  },
  {
   "cell_type": "code",
   "execution_count": 71,
   "metadata": {},
   "outputs": [
    {
     "name": "stdout",
     "output_type": "stream",
     "text": [
      "25 \n"
     ]
    }
   ],
   "source": [
    "# Find Date from String:\n",
    "print(string[0:3])"
   ]
  }
 ],
 "metadata": {
  "kernelspec": {
   "display_name": "Python 3",
   "language": "python",
   "name": "python3"
  },
  "language_info": {
   "codemirror_mode": {
    "name": "ipython",
    "version": 3
   },
   "file_extension": ".py",
   "mimetype": "text/x-python",
   "name": "python",
   "nbconvert_exporter": "python",
   "pygments_lexer": "ipython3",
   "version": "3.7.3"
  }
 },
 "nbformat": 4,
 "nbformat_minor": 2
}
